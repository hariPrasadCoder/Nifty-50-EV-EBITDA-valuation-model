{
  "nbformat": 4,
  "nbformat_minor": 0,
  "metadata": {
    "colab": {
      "name": "Code breakup.ipynb",
      "provenance": [],
      "collapsed_sections": [],
      "authorship_tag": "ABX9TyMTTcQGnaLy+uMfvTlhnnM6",
      "include_colab_link": true
    },
    "kernelspec": {
      "name": "python3",
      "display_name": "Python 3"
    },
    "language_info": {
      "name": "python"
    }
  },
  "cells": [
    {
      "cell_type": "markdown",
      "metadata": {
        "id": "view-in-github",
        "colab_type": "text"
      },
      "source": [
        "<a href=\"https://colab.research.google.com/github/hariPrasadCoder/Nifty-50-EV-EBITDA-valuation-model/blob/main/Code_breakup.ipynb\" target=\"_parent\"><img src=\"https://colab.research.google.com/assets/colab-badge.svg\" alt=\"Open In Colab\"/></a>"
      ]
    },
    {
      "cell_type": "code",
      "metadata": {
        "id": "tGOGWVMbewwj"
      },
      "source": [
        "from bs4 import BeautifulSoup\n",
        "import requests\n",
        "import pandas as pd\n",
        "import numpy as np"
      ],
      "execution_count": 1,
      "outputs": []
    },
    {
      "cell_type": "code",
      "metadata": {
        "id": "OC1mJqgWfbF4"
      },
      "source": [
        "source = requests.get('https://www.moneycontrol.com/financials/relianceindustries/consolidated-ratiosVI/RI#RI').text"
      ],
      "execution_count": 2,
      "outputs": []
    },
    {
      "cell_type": "code",
      "metadata": {
        "id": "zVhZkVEnfga2"
      },
      "source": [
        "soup = BeautifulSoup(source, 'lxml')"
      ],
      "execution_count": 3,
      "outputs": []
    },
    {
      "cell_type": "code",
      "metadata": {
        "colab": {
          "base_uri": "https://localhost:8080/",
          "height": 1000
        },
        "id": "C8LqSzhsfjpQ",
        "outputId": "a8092020-78f7-4895-981c-cd6084c62493"
      },
      "source": [
        "tabs = []\n",
        "table = soup.find(\"table\", class_='mctable1')\n",
        "for tr in table.find_all(\"tr\")[1:]:\n",
        "  tabs.append({\n",
        "            'Ratio Titles': tr.find_all('td')[0].text,\n",
        "            'Mar21': tr.find_all('td')[1].text,\n",
        "            'Mar20': tr.find_all('td')[2].text,\n",
        "            'Mar19': tr.find_all('td')[3].text,\n",
        "            'Mar18': tr.find_all('td')[4].text,\n",
        "            'Mar17': tr.find_all('td')[5].text\n",
        "            })\n",
        "  \n",
        "df = pd.DataFrame(tabs)\n",
        "df = df.set_index('Ratio Titles')\n",
        "df"
      ],
      "execution_count": 4,
      "outputs": [
        {
          "output_type": "execute_result",
          "data": {
            "text/html": [
              "<div>\n",
              "<style scoped>\n",
              "    .dataframe tbody tr th:only-of-type {\n",
              "        vertical-align: middle;\n",
              "    }\n",
              "\n",
              "    .dataframe tbody tr th {\n",
              "        vertical-align: top;\n",
              "    }\n",
              "\n",
              "    .dataframe thead th {\n",
              "        text-align: right;\n",
              "    }\n",
              "</style>\n",
              "<table border=\"1\" class=\"dataframe\">\n",
              "  <thead>\n",
              "    <tr style=\"text-align: right;\">\n",
              "      <th></th>\n",
              "      <th>Mar21</th>\n",
              "      <th>Mar20</th>\n",
              "      <th>Mar19</th>\n",
              "      <th>Mar18</th>\n",
              "      <th>Mar17</th>\n",
              "    </tr>\n",
              "    <tr>\n",
              "      <th>Ratio Titles</th>\n",
              "      <th></th>\n",
              "      <th></th>\n",
              "      <th></th>\n",
              "      <th></th>\n",
              "      <th></th>\n",
              "    </tr>\n",
              "  </thead>\n",
              "  <tbody>\n",
              "    <tr>\n",
              "      <th>Per Share Ratios</th>\n",
              "      <td></td>\n",
              "      <td></td>\n",
              "      <td></td>\n",
              "      <td></td>\n",
              "      <td></td>\n",
              "    </tr>\n",
              "    <tr>\n",
              "      <th>Basic EPS (Rs.)</th>\n",
              "      <td>76.37</td>\n",
              "      <td>63.07</td>\n",
              "      <td>66.82</td>\n",
              "      <td>60.94</td>\n",
              "      <td>101.33</td>\n",
              "    </tr>\n",
              "    <tr>\n",
              "      <th>Diluted EPS (Rs.)</th>\n",
              "      <td>75.21</td>\n",
              "      <td>63.06</td>\n",
              "      <td>66.80</td>\n",
              "      <td>60.89</td>\n",
              "      <td>101.14</td>\n",
              "    </tr>\n",
              "    <tr>\n",
              "      <th>Cash EPS (Rs.)</th>\n",
              "      <td>123.81</td>\n",
              "      <td>97.77</td>\n",
              "      <td>102.38</td>\n",
              "      <td>89.04</td>\n",
              "      <td>140.54</td>\n",
              "    </tr>\n",
              "    <tr>\n",
              "      <th>Book Value [ExclRevalReserve]/Share (Rs.)</th>\n",
              "      <td>1,240.39</td>\n",
              "      <td>727.79</td>\n",
              "      <td>667.22</td>\n",
              "      <td>501.57</td>\n",
              "      <td>898.11</td>\n",
              "    </tr>\n",
              "    <tr>\n",
              "      <th>Book Value [InclRevalReserve]/Share (Rs.)</th>\n",
              "      <td>1,240.39</td>\n",
              "      <td>727.79</td>\n",
              "      <td>667.22</td>\n",
              "      <td>501.57</td>\n",
              "      <td>901.05</td>\n",
              "    </tr>\n",
              "    <tr>\n",
              "      <th>Revenue from Operations/Share (Rs.)</th>\n",
              "      <td>724.47</td>\n",
              "      <td>942.63</td>\n",
              "      <td>960.53</td>\n",
              "      <td>661.39</td>\n",
              "      <td>1,032.04</td>\n",
              "    </tr>\n",
              "    <tr>\n",
              "      <th>PBDIT/Share (Rs.)</th>\n",
              "      <td>150.60</td>\n",
              "      <td>161.18</td>\n",
              "      <td>156.18</td>\n",
              "      <td>125.17</td>\n",
              "      <td>188.03</td>\n",
              "    </tr>\n",
              "    <tr>\n",
              "      <th>PBIT/Share (Rs.)</th>\n",
              "      <td>109.37</td>\n",
              "      <td>126.16</td>\n",
              "      <td>120.86</td>\n",
              "      <td>96.96</td>\n",
              "      <td>148.67</td>\n",
              "    </tr>\n",
              "    <tr>\n",
              "      <th>PBT/Share (Rs.)</th>\n",
              "      <td>85.25</td>\n",
              "      <td>84.40</td>\n",
              "      <td>93.02</td>\n",
              "      <td>83.36</td>\n",
              "      <td>135.66</td>\n",
              "    </tr>\n",
              "    <tr>\n",
              "      <th>Net Profit/Share (Rs.)</th>\n",
              "      <td>82.58</td>\n",
              "      <td>62.74</td>\n",
              "      <td>67.05</td>\n",
              "      <td>60.83</td>\n",
              "      <td>101.19</td>\n",
              "    </tr>\n",
              "    <tr>\n",
              "      <th>NP After MI And SOA / Share (Rs.)</th>\n",
              "      <td>76.23</td>\n",
              "      <td>62.08</td>\n",
              "      <td>66.80</td>\n",
              "      <td>60.92</td>\n",
              "      <td>101.05</td>\n",
              "    </tr>\n",
              "    <tr>\n",
              "      <th>Profitability Ratios</th>\n",
              "      <td></td>\n",
              "      <td></td>\n",
              "      <td></td>\n",
              "      <td></td>\n",
              "      <td></td>\n",
              "    </tr>\n",
              "    <tr>\n",
              "      <th>PBDIT Margin (%)</th>\n",
              "      <td>20.78</td>\n",
              "      <td>17.09</td>\n",
              "      <td>16.25</td>\n",
              "      <td>18.92</td>\n",
              "      <td>18.21</td>\n",
              "    </tr>\n",
              "    <tr>\n",
              "      <th>PBIT Margin (%)</th>\n",
              "      <td>15.09</td>\n",
              "      <td>13.38</td>\n",
              "      <td>12.58</td>\n",
              "      <td>14.65</td>\n",
              "      <td>14.40</td>\n",
              "    </tr>\n",
              "    <tr>\n",
              "      <th>PBT Margin (%)</th>\n",
              "      <td>11.76</td>\n",
              "      <td>8.95</td>\n",
              "      <td>9.68</td>\n",
              "      <td>12.60</td>\n",
              "      <td>13.14</td>\n",
              "    </tr>\n",
              "    <tr>\n",
              "      <th>Net Profit Margin (%)</th>\n",
              "      <td>11.39</td>\n",
              "      <td>6.65</td>\n",
              "      <td>6.98</td>\n",
              "      <td>9.19</td>\n",
              "      <td>9.80</td>\n",
              "    </tr>\n",
              "    <tr>\n",
              "      <th>NP After MI And SOA Margin (%)</th>\n",
              "      <td>10.52</td>\n",
              "      <td>6.58</td>\n",
              "      <td>6.95</td>\n",
              "      <td>9.21</td>\n",
              "      <td>9.79</td>\n",
              "    </tr>\n",
              "    <tr>\n",
              "      <th>Return on Networth/Equity (%)</th>\n",
              "      <td>7.01</td>\n",
              "      <td>8.76</td>\n",
              "      <td>10.22</td>\n",
              "      <td>12.29</td>\n",
              "      <td>11.37</td>\n",
              "    </tr>\n",
              "    <tr>\n",
              "      <th>Return on Capital Employed (%)</th>\n",
              "      <td>6.75</td>\n",
              "      <td>10.62</td>\n",
              "      <td>10.45</td>\n",
              "      <td>11.42</td>\n",
              "      <td>9.22</td>\n",
              "    </tr>\n",
              "    <tr>\n",
              "      <th>Return on Assets (%)</th>\n",
              "      <td>3.71</td>\n",
              "      <td>3.37</td>\n",
              "      <td>3.94</td>\n",
              "      <td>4.41</td>\n",
              "      <td>4.19</td>\n",
              "    </tr>\n",
              "    <tr>\n",
              "      <th>Total Debt/Equity (X)</th>\n",
              "      <td>0.32</td>\n",
              "      <td>0.65</td>\n",
              "      <td>0.70</td>\n",
              "      <td>0.62</td>\n",
              "      <td>0.70</td>\n",
              "    </tr>\n",
              "    <tr>\n",
              "      <th>Asset Turnover Ratio (%)</th>\n",
              "      <td>35.34</td>\n",
              "      <td>51.25</td>\n",
              "      <td>56.78</td>\n",
              "      <td>47.97</td>\n",
              "      <td>42.87</td>\n",
              "    </tr>\n",
              "    <tr>\n",
              "      <th>Liquidity Ratios</th>\n",
              "      <td></td>\n",
              "      <td></td>\n",
              "      <td></td>\n",
              "      <td></td>\n",
              "      <td></td>\n",
              "    </tr>\n",
              "    <tr>\n",
              "      <th>Current Ratio (X)</th>\n",
              "      <td>1.34</td>\n",
              "      <td>0.63</td>\n",
              "      <td>0.73</td>\n",
              "      <td>0.59</td>\n",
              "      <td>0.62</td>\n",
              "    </tr>\n",
              "    <tr>\n",
              "      <th>Quick Ratio (X)</th>\n",
              "      <td>1.05</td>\n",
              "      <td>0.45</td>\n",
              "      <td>0.52</td>\n",
              "      <td>0.39</td>\n",
              "      <td>0.42</td>\n",
              "    </tr>\n",
              "    <tr>\n",
              "      <th>Inventory Turnover Ratio (X)</th>\n",
              "      <td>5.72</td>\n",
              "      <td>8.09</td>\n",
              "      <td>8.43</td>\n",
              "      <td>6.44</td>\n",
              "      <td>6.24</td>\n",
              "    </tr>\n",
              "    <tr>\n",
              "      <th>Dividend Payout Ratio (NP) (%)</th>\n",
              "      <td>7.98</td>\n",
              "      <td>9.78</td>\n",
              "      <td>8.97</td>\n",
              "      <td>9.02</td>\n",
              "      <td>0.00</td>\n",
              "    </tr>\n",
              "    <tr>\n",
              "      <th>Dividend Payout Ratio (CP) (%)</th>\n",
              "      <td>5.17</td>\n",
              "      <td>6.25</td>\n",
              "      <td>5.87</td>\n",
              "      <td>6.16</td>\n",
              "      <td>0.00</td>\n",
              "    </tr>\n",
              "    <tr>\n",
              "      <th>Earnings Retention Ratio (%)</th>\n",
              "      <td>92.02</td>\n",
              "      <td>90.22</td>\n",
              "      <td>91.03</td>\n",
              "      <td>90.98</td>\n",
              "      <td>0.00</td>\n",
              "    </tr>\n",
              "    <tr>\n",
              "      <th>Cash Earnings Retention Ratio (%)</th>\n",
              "      <td>94.83</td>\n",
              "      <td>93.75</td>\n",
              "      <td>94.13</td>\n",
              "      <td>93.84</td>\n",
              "      <td>0.00</td>\n",
              "    </tr>\n",
              "    <tr>\n",
              "      <th>Coverage Ratios</th>\n",
              "      <td></td>\n",
              "      <td></td>\n",
              "      <td></td>\n",
              "      <td></td>\n",
              "      <td></td>\n",
              "    </tr>\n",
              "    <tr>\n",
              "      <th>Interest Coverage Ratios (%)</th>\n",
              "      <td>3.33</td>\n",
              "      <td>3.63</td>\n",
              "      <td>4.34</td>\n",
              "      <td>7.13</td>\n",
              "      <td>11.43</td>\n",
              "    </tr>\n",
              "    <tr>\n",
              "      <th>Interest Coverage Ratios (Post Tax) (%)</th>\n",
              "      <td>3.33</td>\n",
              "      <td>3.63</td>\n",
              "      <td>4.34</td>\n",
              "      <td>7.13</td>\n",
              "      <td>11.43</td>\n",
              "    </tr>\n",
              "    <tr>\n",
              "      <th>Valuation Ratios</th>\n",
              "      <td></td>\n",
              "      <td></td>\n",
              "      <td></td>\n",
              "      <td></td>\n",
              "      <td></td>\n",
              "    </tr>\n",
              "    <tr>\n",
              "      <th>Enterprise Value (Cr.)</th>\n",
              "      <td>1,596,689.40</td>\n",
              "      <td>977,860.06</td>\n",
              "      <td>1,076,884.43</td>\n",
              "      <td>703,682.16</td>\n",
              "      <td>573,921.28</td>\n",
              "    </tr>\n",
              "    <tr>\n",
              "      <th>EV/Net Operating Revenue (X)</th>\n",
              "      <td>3.42</td>\n",
              "      <td>1.64</td>\n",
              "      <td>1.89</td>\n",
              "      <td>1.80</td>\n",
              "      <td>1.88</td>\n",
              "    </tr>\n",
              "    <tr>\n",
              "      <th>EV/EBITDA (X)</th>\n",
              "      <td>16.45</td>\n",
              "      <td>9.57</td>\n",
              "      <td>11.64</td>\n",
              "      <td>9.49</td>\n",
              "      <td>10.32</td>\n",
              "    </tr>\n",
              "    <tr>\n",
              "      <th>MarketCap/Net Operating Revenue (X)</th>\n",
              "      <td>2.77</td>\n",
              "      <td>1.18</td>\n",
              "      <td>1.42</td>\n",
              "      <td>1.33</td>\n",
              "      <td>1.28</td>\n",
              "    </tr>\n",
              "    <tr>\n",
              "      <th>Retention Ratios (%)</th>\n",
              "      <td>92.01</td>\n",
              "      <td>90.21</td>\n",
              "      <td>91.02</td>\n",
              "      <td>90.97</td>\n",
              "      <td>0.00</td>\n",
              "    </tr>\n",
              "    <tr>\n",
              "      <th>Price/BV (X)</th>\n",
              "      <td>1.84</td>\n",
              "      <td>1.57</td>\n",
              "      <td>2.09</td>\n",
              "      <td>1.78</td>\n",
              "      <td>1.49</td>\n",
              "    </tr>\n",
              "    <tr>\n",
              "      <th>Price/Net Operating Revenue</th>\n",
              "      <td>2.77</td>\n",
              "      <td>1.18</td>\n",
              "      <td>1.42</td>\n",
              "      <td>1.33</td>\n",
              "      <td>1.28</td>\n",
              "    </tr>\n",
              "    <tr>\n",
              "      <th>Earnings Yield</th>\n",
              "      <td>0.04</td>\n",
              "      <td>0.06</td>\n",
              "      <td>0.05</td>\n",
              "      <td>0.07</td>\n",
              "      <td>0.08</td>\n",
              "    </tr>\n",
              "  </tbody>\n",
              "</table>\n",
              "</div>"
            ],
            "text/plain": [
              "                                                  Mar21  ...       Mar17\n",
              "Ratio Titles                                             ...            \n",
              "Per Share Ratios                                         ...            \n",
              "Basic EPS (Rs.)                                   76.37  ...      101.33\n",
              "Diluted EPS (Rs.)                                 75.21  ...      101.14\n",
              "Cash EPS (Rs.)                                   123.81  ...      140.54\n",
              "Book Value [ExclRevalReserve]/Share (Rs.)      1,240.39  ...      898.11\n",
              "Book Value [InclRevalReserve]/Share (Rs.)      1,240.39  ...      901.05\n",
              "Revenue from Operations/Share (Rs.)              724.47  ...    1,032.04\n",
              "PBDIT/Share (Rs.)                                150.60  ...      188.03\n",
              "PBIT/Share (Rs.)                                 109.37  ...      148.67\n",
              "PBT/Share (Rs.)                                   85.25  ...      135.66\n",
              "Net Profit/Share (Rs.)                            82.58  ...      101.19\n",
              "NP After MI And SOA / Share (Rs.)                 76.23  ...      101.05\n",
              "Profitability Ratios                                     ...            \n",
              "PBDIT Margin (%)                                  20.78  ...       18.21\n",
              "PBIT Margin (%)                                   15.09  ...       14.40\n",
              "PBT Margin (%)                                    11.76  ...       13.14\n",
              "Net Profit Margin (%)                             11.39  ...        9.80\n",
              "NP After MI And SOA Margin (%)                    10.52  ...        9.79\n",
              "Return on Networth/Equity (%)                      7.01  ...       11.37\n",
              "Return on Capital Employed (%)                     6.75  ...        9.22\n",
              "Return on Assets (%)                               3.71  ...        4.19\n",
              "Total Debt/Equity (X)                              0.32  ...        0.70\n",
              "Asset Turnover Ratio (%)                          35.34  ...       42.87\n",
              "Liquidity Ratios                                         ...            \n",
              "Current Ratio (X)                                  1.34  ...        0.62\n",
              "Quick Ratio (X)                                    1.05  ...        0.42\n",
              "Inventory Turnover Ratio (X)                       5.72  ...        6.24\n",
              "Dividend Payout Ratio (NP) (%)                     7.98  ...        0.00\n",
              "Dividend Payout Ratio (CP) (%)                     5.17  ...        0.00\n",
              "Earnings Retention Ratio (%)                      92.02  ...        0.00\n",
              "Cash Earnings Retention Ratio (%)                 94.83  ...        0.00\n",
              "Coverage Ratios                                          ...            \n",
              "Interest Coverage Ratios (%)                       3.33  ...       11.43\n",
              "Interest Coverage Ratios (Post Tax) (%)            3.33  ...       11.43\n",
              "Valuation Ratios                                         ...            \n",
              "Enterprise Value (Cr.)                     1,596,689.40  ...  573,921.28\n",
              "EV/Net Operating Revenue (X)                       3.42  ...        1.88\n",
              "EV/EBITDA (X)                                     16.45  ...       10.32\n",
              "MarketCap/Net Operating Revenue (X)                2.77  ...        1.28\n",
              "Retention Ratios (%)                              92.01  ...        0.00\n",
              "Price/BV (X)                                       1.84  ...        1.49\n",
              "Price/Net Operating Revenue                        2.77  ...        1.28\n",
              "Earnings Yield                                     0.04  ...        0.08\n",
              "\n",
              "[43 rows x 5 columns]"
            ]
          },
          "metadata": {
            "tags": []
          },
          "execution_count": 4
        }
      ]
    },
    {
      "cell_type": "code",
      "metadata": {
        "colab": {
          "base_uri": "https://localhost:8080/",
          "height": 142
        },
        "id": "cDPUr4R0gEs4",
        "outputId": "2654913e-8277-46a0-df00-796191733c1e"
      },
      "source": [
        "df2 = df.loc[['Enterprise Value (Cr.)','EV/EBITDA (X)'],:]\n",
        "df2"
      ],
      "execution_count": 5,
      "outputs": [
        {
          "output_type": "execute_result",
          "data": {
            "text/html": [
              "<div>\n",
              "<style scoped>\n",
              "    .dataframe tbody tr th:only-of-type {\n",
              "        vertical-align: middle;\n",
              "    }\n",
              "\n",
              "    .dataframe tbody tr th {\n",
              "        vertical-align: top;\n",
              "    }\n",
              "\n",
              "    .dataframe thead th {\n",
              "        text-align: right;\n",
              "    }\n",
              "</style>\n",
              "<table border=\"1\" class=\"dataframe\">\n",
              "  <thead>\n",
              "    <tr style=\"text-align: right;\">\n",
              "      <th></th>\n",
              "      <th>Mar21</th>\n",
              "      <th>Mar20</th>\n",
              "      <th>Mar19</th>\n",
              "      <th>Mar18</th>\n",
              "      <th>Mar17</th>\n",
              "    </tr>\n",
              "    <tr>\n",
              "      <th>Ratio Titles</th>\n",
              "      <th></th>\n",
              "      <th></th>\n",
              "      <th></th>\n",
              "      <th></th>\n",
              "      <th></th>\n",
              "    </tr>\n",
              "  </thead>\n",
              "  <tbody>\n",
              "    <tr>\n",
              "      <th>Enterprise Value (Cr.)</th>\n",
              "      <td>1,596,689.40</td>\n",
              "      <td>977,860.06</td>\n",
              "      <td>1,076,884.43</td>\n",
              "      <td>703,682.16</td>\n",
              "      <td>573,921.28</td>\n",
              "    </tr>\n",
              "    <tr>\n",
              "      <th>EV/EBITDA (X)</th>\n",
              "      <td>16.45</td>\n",
              "      <td>9.57</td>\n",
              "      <td>11.64</td>\n",
              "      <td>9.49</td>\n",
              "      <td>10.32</td>\n",
              "    </tr>\n",
              "  </tbody>\n",
              "</table>\n",
              "</div>"
            ],
            "text/plain": [
              "                               Mar21       Mar20  ...       Mar18       Mar17\n",
              "Ratio Titles                                      ...                        \n",
              "Enterprise Value (Cr.)  1,596,689.40  977,860.06  ...  703,682.16  573,921.28\n",
              "EV/EBITDA (X)                  16.45        9.57  ...        9.49       10.32\n",
              "\n",
              "[2 rows x 5 columns]"
            ]
          },
          "metadata": {
            "tags": []
          },
          "execution_count": 5
        }
      ]
    },
    {
      "cell_type": "code",
      "metadata": {
        "colab": {
          "base_uri": "https://localhost:8080/",
          "height": 142
        },
        "id": "RRza1Xx_lCQF",
        "outputId": "b6130f75-46cf-4364-e967-2ab799b6e1cb"
      },
      "source": [
        "df2['Mar21'] = df2['Mar21'].str.replace(',','').astype('float')\n",
        "df2['Mar20'] = df2['Mar20'].str.replace(',','').astype('float')\n",
        "df2['Mar19'] = df2['Mar19'].str.replace(',','').astype('float')\n",
        "df2['Mar18'] = df2['Mar18'].str.replace(',','').astype('float')\n",
        "df2['Mar17'] = df2['Mar17'].str.replace(',','').astype('float')\n",
        "df2"
      ],
      "execution_count": 6,
      "outputs": [
        {
          "output_type": "execute_result",
          "data": {
            "text/html": [
              "<div>\n",
              "<style scoped>\n",
              "    .dataframe tbody tr th:only-of-type {\n",
              "        vertical-align: middle;\n",
              "    }\n",
              "\n",
              "    .dataframe tbody tr th {\n",
              "        vertical-align: top;\n",
              "    }\n",
              "\n",
              "    .dataframe thead th {\n",
              "        text-align: right;\n",
              "    }\n",
              "</style>\n",
              "<table border=\"1\" class=\"dataframe\">\n",
              "  <thead>\n",
              "    <tr style=\"text-align: right;\">\n",
              "      <th></th>\n",
              "      <th>Mar21</th>\n",
              "      <th>Mar20</th>\n",
              "      <th>Mar19</th>\n",
              "      <th>Mar18</th>\n",
              "      <th>Mar17</th>\n",
              "    </tr>\n",
              "    <tr>\n",
              "      <th>Ratio Titles</th>\n",
              "      <th></th>\n",
              "      <th></th>\n",
              "      <th></th>\n",
              "      <th></th>\n",
              "      <th></th>\n",
              "    </tr>\n",
              "  </thead>\n",
              "  <tbody>\n",
              "    <tr>\n",
              "      <th>Enterprise Value (Cr.)</th>\n",
              "      <td>1596689.40</td>\n",
              "      <td>977860.06</td>\n",
              "      <td>1076884.43</td>\n",
              "      <td>703682.16</td>\n",
              "      <td>573921.28</td>\n",
              "    </tr>\n",
              "    <tr>\n",
              "      <th>EV/EBITDA (X)</th>\n",
              "      <td>16.45</td>\n",
              "      <td>9.57</td>\n",
              "      <td>11.64</td>\n",
              "      <td>9.49</td>\n",
              "      <td>10.32</td>\n",
              "    </tr>\n",
              "  </tbody>\n",
              "</table>\n",
              "</div>"
            ],
            "text/plain": [
              "                             Mar21      Mar20       Mar19      Mar18      Mar17\n",
              "Ratio Titles                                                                   \n",
              "Enterprise Value (Cr.)  1596689.40  977860.06  1076884.43  703682.16  573921.28\n",
              "EV/EBITDA (X)                16.45       9.57       11.64       9.49      10.32"
            ]
          },
          "metadata": {
            "tags": []
          },
          "execution_count": 6
        }
      ]
    },
    {
      "cell_type": "code",
      "metadata": {
        "colab": {
          "base_uri": "https://localhost:8080/"
        },
        "id": "neFGLQV-pR9l",
        "outputId": "ae767517-047d-46cd-b47c-ade25efaac66"
      },
      "source": [
        "ebitda = (df2.iloc[0,:].values/df2.iloc[1,:].values).tolist()\n",
        "ebitda"
      ],
      "execution_count": 7,
      "outputs": [
        {
          "output_type": "execute_result",
          "data": {
            "text/plain": [
              "[97063.18541033435,\n",
              " 102179.73458725183,\n",
              " 92515.84450171821,\n",
              " 74149.85879873551,\n",
              " 55612.52713178295]"
            ]
          },
          "metadata": {
            "tags": []
          },
          "execution_count": 7
        }
      ]
    },
    {
      "cell_type": "code",
      "metadata": {
        "colab": {
          "base_uri": "https://localhost:8080/",
          "height": 172
        },
        "id": "JsPI1WY9rK2f",
        "outputId": "cd4d9e2b-60f9-417a-967b-ded01cde715b"
      },
      "source": [
        "df2.loc['EBITA'] = ebitda\n",
        "df2"
      ],
      "execution_count": 8,
      "outputs": [
        {
          "output_type": "execute_result",
          "data": {
            "text/html": [
              "<div>\n",
              "<style scoped>\n",
              "    .dataframe tbody tr th:only-of-type {\n",
              "        vertical-align: middle;\n",
              "    }\n",
              "\n",
              "    .dataframe tbody tr th {\n",
              "        vertical-align: top;\n",
              "    }\n",
              "\n",
              "    .dataframe thead th {\n",
              "        text-align: right;\n",
              "    }\n",
              "</style>\n",
              "<table border=\"1\" class=\"dataframe\">\n",
              "  <thead>\n",
              "    <tr style=\"text-align: right;\">\n",
              "      <th></th>\n",
              "      <th>Mar21</th>\n",
              "      <th>Mar20</th>\n",
              "      <th>Mar19</th>\n",
              "      <th>Mar18</th>\n",
              "      <th>Mar17</th>\n",
              "    </tr>\n",
              "    <tr>\n",
              "      <th>Ratio Titles</th>\n",
              "      <th></th>\n",
              "      <th></th>\n",
              "      <th></th>\n",
              "      <th></th>\n",
              "      <th></th>\n",
              "    </tr>\n",
              "  </thead>\n",
              "  <tbody>\n",
              "    <tr>\n",
              "      <th>Enterprise Value (Cr.)</th>\n",
              "      <td>1.596689e+06</td>\n",
              "      <td>977860.060000</td>\n",
              "      <td>1.076884e+06</td>\n",
              "      <td>703682.160000</td>\n",
              "      <td>573921.280000</td>\n",
              "    </tr>\n",
              "    <tr>\n",
              "      <th>EV/EBITDA (X)</th>\n",
              "      <td>1.645000e+01</td>\n",
              "      <td>9.570000</td>\n",
              "      <td>1.164000e+01</td>\n",
              "      <td>9.490000</td>\n",
              "      <td>10.320000</td>\n",
              "    </tr>\n",
              "    <tr>\n",
              "      <th>EBITA</th>\n",
              "      <td>9.706319e+04</td>\n",
              "      <td>102179.734587</td>\n",
              "      <td>9.251584e+04</td>\n",
              "      <td>74149.858799</td>\n",
              "      <td>55612.527132</td>\n",
              "    </tr>\n",
              "  </tbody>\n",
              "</table>\n",
              "</div>"
            ],
            "text/plain": [
              "                               Mar21  ...          Mar17\n",
              "Ratio Titles                          ...               \n",
              "Enterprise Value (Cr.)  1.596689e+06  ...  573921.280000\n",
              "EV/EBITDA (X)           1.645000e+01  ...      10.320000\n",
              "EBITA                   9.706319e+04  ...   55612.527132\n",
              "\n",
              "[3 rows x 5 columns]"
            ]
          },
          "metadata": {
            "tags": []
          },
          "execution_count": 8
        }
      ]
    },
    {
      "cell_type": "code",
      "metadata": {
        "colab": {
          "base_uri": "https://localhost:8080/",
          "height": 172
        },
        "id": "xnQmGvM9tBW9",
        "outputId": "b85ceb9d-1869-468e-e09e-9603edd993a7"
      },
      "source": [
        "pd.set_option('display.float_format', '{:.2f}'.format)\n",
        "df2"
      ],
      "execution_count": 9,
      "outputs": [
        {
          "output_type": "execute_result",
          "data": {
            "text/html": [
              "<div>\n",
              "<style scoped>\n",
              "    .dataframe tbody tr th:only-of-type {\n",
              "        vertical-align: middle;\n",
              "    }\n",
              "\n",
              "    .dataframe tbody tr th {\n",
              "        vertical-align: top;\n",
              "    }\n",
              "\n",
              "    .dataframe thead th {\n",
              "        text-align: right;\n",
              "    }\n",
              "</style>\n",
              "<table border=\"1\" class=\"dataframe\">\n",
              "  <thead>\n",
              "    <tr style=\"text-align: right;\">\n",
              "      <th></th>\n",
              "      <th>Mar21</th>\n",
              "      <th>Mar20</th>\n",
              "      <th>Mar19</th>\n",
              "      <th>Mar18</th>\n",
              "      <th>Mar17</th>\n",
              "    </tr>\n",
              "    <tr>\n",
              "      <th>Ratio Titles</th>\n",
              "      <th></th>\n",
              "      <th></th>\n",
              "      <th></th>\n",
              "      <th></th>\n",
              "      <th></th>\n",
              "    </tr>\n",
              "  </thead>\n",
              "  <tbody>\n",
              "    <tr>\n",
              "      <th>Enterprise Value (Cr.)</th>\n",
              "      <td>1596689.40</td>\n",
              "      <td>977860.06</td>\n",
              "      <td>1076884.43</td>\n",
              "      <td>703682.16</td>\n",
              "      <td>573921.28</td>\n",
              "    </tr>\n",
              "    <tr>\n",
              "      <th>EV/EBITDA (X)</th>\n",
              "      <td>16.45</td>\n",
              "      <td>9.57</td>\n",
              "      <td>11.64</td>\n",
              "      <td>9.49</td>\n",
              "      <td>10.32</td>\n",
              "    </tr>\n",
              "    <tr>\n",
              "      <th>EBITA</th>\n",
              "      <td>97063.19</td>\n",
              "      <td>102179.73</td>\n",
              "      <td>92515.84</td>\n",
              "      <td>74149.86</td>\n",
              "      <td>55612.53</td>\n",
              "    </tr>\n",
              "  </tbody>\n",
              "</table>\n",
              "</div>"
            ],
            "text/plain": [
              "                            Mar21     Mar20      Mar19     Mar18     Mar17\n",
              "Ratio Titles                                                              \n",
              "Enterprise Value (Cr.) 1596689.40 977860.06 1076884.43 703682.16 573921.28\n",
              "EV/EBITDA (X)               16.45      9.57      11.64      9.49     10.32\n",
              "EBITA                    97063.19 102179.73   92515.84  74149.86  55612.53"
            ]
          },
          "metadata": {
            "tags": []
          },
          "execution_count": 9
        }
      ]
    },
    {
      "cell_type": "code",
      "metadata": {
        "colab": {
          "base_uri": "https://localhost:8080/"
        },
        "id": "HV1VoznIvCzd",
        "outputId": "f2b0e3df-8819-4e19-d757-5e30bceeadd1"
      },
      "source": [
        "list_growth = []\n",
        "for i in range(len(ebitda)-1):\n",
        "  growth = ((ebitda[i]-ebitda[i+1])/ebitda[i+1])*100\n",
        "  list_growth.append(growth)\n",
        "  i += 1\n",
        "\n",
        "avg_growth_in_ebitda = np.mean(list_growth[:3])\n",
        "avg_growth_in_ebitda"
      ],
      "execution_count": 10,
      "outputs": [
        {
          "output_type": "execute_result",
          "data": {
            "text/plain": [
              "10.068999438864253"
            ]
          },
          "metadata": {
            "tags": []
          },
          "execution_count": 10
        }
      ]
    },
    {
      "cell_type": "code",
      "metadata": {
        "colab": {
          "base_uri": "https://localhost:8080/"
        },
        "id": "ZCc9OH8fxI2f",
        "outputId": "14caa8b4-667d-41ec-ca71-a91a99c46ebd"
      },
      "source": [
        "expected_ebitda = ebitda[0]*((100+avg_growth_in_ebitda)/100)\n",
        "expected_ebitda"
      ],
      "execution_count": 11,
      "outputs": [
        {
          "output_type": "execute_result",
          "data": {
            "text/plain": [
              "106836.4770046447"
            ]
          },
          "metadata": {
            "tags": []
          },
          "execution_count": 11
        }
      ]
    },
    {
      "cell_type": "code",
      "metadata": {
        "id": "61fCCz-yzMuh"
      },
      "source": [
        "source2 = requests.get('https://www.moneycontrol.com/financials/relianceindustries/consolidated-balance-sheetVI/RI#RI').text\n",
        "soup2 = BeautifulSoup(source2, 'lxml')"
      ],
      "execution_count": 12,
      "outputs": []
    },
    {
      "cell_type": "code",
      "metadata": {
        "colab": {
          "base_uri": "https://localhost:8080/",
          "height": 1000
        },
        "id": "Yioa0Ooe0gmG",
        "outputId": "d2964993-d34d-4595-98b9-9838ba0686a7"
      },
      "source": [
        "tabs = []\n",
        "table = soup2.find(\"table\", class_='mctable1')\n",
        "for tr in table.find_all(\"tr\")[1:]:\n",
        "  tabs.append({\n",
        "            'Balance Sheet': tr.find_all('td')[0].text,\n",
        "            'Mar21': tr.find_all('td')[1].text,\n",
        "            'Mar20': tr.find_all('td')[2].text,\n",
        "            'Mar19': tr.find_all('td')[3].text,\n",
        "            'Mar18': tr.find_all('td')[4].text,\n",
        "            'Mar17': tr.find_all('td')[5].text\n",
        "            })\n",
        "  \n",
        "df_bs = pd.DataFrame(tabs)\n",
        "df_bs = df_bs.set_index('Balance Sheet')\n",
        "df_bs"
      ],
      "execution_count": 13,
      "outputs": [
        {
          "output_type": "execute_result",
          "data": {
            "text/html": [
              "<div>\n",
              "<style scoped>\n",
              "    .dataframe tbody tr th:only-of-type {\n",
              "        vertical-align: middle;\n",
              "    }\n",
              "\n",
              "    .dataframe tbody tr th {\n",
              "        vertical-align: top;\n",
              "    }\n",
              "\n",
              "    .dataframe thead th {\n",
              "        text-align: right;\n",
              "    }\n",
              "</style>\n",
              "<table border=\"1\" class=\"dataframe\">\n",
              "  <thead>\n",
              "    <tr style=\"text-align: right;\">\n",
              "      <th></th>\n",
              "      <th>Mar21</th>\n",
              "      <th>Mar20</th>\n",
              "      <th>Mar19</th>\n",
              "      <th>Mar18</th>\n",
              "      <th>Mar17</th>\n",
              "    </tr>\n",
              "    <tr>\n",
              "      <th>Balance Sheet</th>\n",
              "      <th></th>\n",
              "      <th></th>\n",
              "      <th></th>\n",
              "      <th></th>\n",
              "      <th></th>\n",
              "    </tr>\n",
              "  </thead>\n",
              "  <tbody>\n",
              "    <tr>\n",
              "      <th></th>\n",
              "      <td>12 mths</td>\n",
              "      <td>12 mths</td>\n",
              "      <td>12 mths</td>\n",
              "      <td>12 mths</td>\n",
              "      <td>12 mths</td>\n",
              "    </tr>\n",
              "    <tr>\n",
              "      <th>EQUITIES AND LIABILITIES</th>\n",
              "      <td></td>\n",
              "      <td></td>\n",
              "      <td></td>\n",
              "      <td></td>\n",
              "      <td></td>\n",
              "    </tr>\n",
              "    <tr>\n",
              "      <th>SHAREHOLDER'S FUNDS</th>\n",
              "      <td></td>\n",
              "      <td></td>\n",
              "      <td></td>\n",
              "      <td></td>\n",
              "      <td></td>\n",
              "    </tr>\n",
              "    <tr>\n",
              "      <th>Equity Share Capital</th>\n",
              "      <td>6,445.00</td>\n",
              "      <td>6,339.00</td>\n",
              "      <td>5,926.00</td>\n",
              "      <td>5,922.00</td>\n",
              "      <td>2,959.00</td>\n",
              "    </tr>\n",
              "    <tr>\n",
              "      <th>Total Share Capital</th>\n",
              "      <td>6,445.00</td>\n",
              "      <td>6,339.00</td>\n",
              "      <td>5,926.00</td>\n",
              "      <td>5,922.00</td>\n",
              "      <td>2,959.00</td>\n",
              "    </tr>\n",
              "    <tr>\n",
              "      <th>Reserves and Surplus</th>\n",
              "      <td>693,727.00</td>\n",
              "      <td>442,827.00</td>\n",
              "      <td>381,186.00</td>\n",
              "      <td>287,569.00</td>\n",
              "      <td>259,876.00</td>\n",
              "    </tr>\n",
              "    <tr>\n",
              "      <th>Total Reserves and Surplus</th>\n",
              "      <td>693,727.00</td>\n",
              "      <td>442,827.00</td>\n",
              "      <td>381,186.00</td>\n",
              "      <td>287,569.00</td>\n",
              "      <td>260,746.00</td>\n",
              "    </tr>\n",
              "    <tr>\n",
              "      <th>Total Shareholders Funds</th>\n",
              "      <td>700,172.00</td>\n",
              "      <td>449,166.00</td>\n",
              "      <td>387,112.00</td>\n",
              "      <td>293,491.00</td>\n",
              "      <td>263,705.00</td>\n",
              "    </tr>\n",
              "    <tr>\n",
              "      <th>Minority Interest</th>\n",
              "      <td>99,260.00</td>\n",
              "      <td>12,181.00</td>\n",
              "      <td>8,280.00</td>\n",
              "      <td>3,539.00</td>\n",
              "      <td>2,917.00</td>\n",
              "    </tr>\n",
              "    <tr>\n",
              "      <th>NON-CURRENT LIABILITIES</th>\n",
              "      <td></td>\n",
              "      <td></td>\n",
              "      <td></td>\n",
              "      <td></td>\n",
              "      <td></td>\n",
              "    </tr>\n",
              "    <tr>\n",
              "      <th>Long Term Borrowings</th>\n",
              "      <td>163,683.00</td>\n",
              "      <td>197,631.00</td>\n",
              "      <td>207,506.00</td>\n",
              "      <td>144,175.00</td>\n",
              "      <td>152,148.00</td>\n",
              "    </tr>\n",
              "    <tr>\n",
              "      <th>Deferred Tax Liabilities [Net]</th>\n",
              "      <td>37,001.00</td>\n",
              "      <td>54,123.00</td>\n",
              "      <td>49,923.00</td>\n",
              "      <td>29,618.00</td>\n",
              "      <td>26,735.00</td>\n",
              "    </tr>\n",
              "    <tr>\n",
              "      <th>Other Long Term Liabilities</th>\n",
              "      <td>40,903.00</td>\n",
              "      <td>38,108.00</td>\n",
              "      <td>29,407.00</td>\n",
              "      <td>28,752.00</td>\n",
              "      <td>29,162.00</td>\n",
              "    </tr>\n",
              "    <tr>\n",
              "      <th>Long Term Provisions</th>\n",
              "      <td>2,625.00</td>\n",
              "      <td>1,790.00</td>\n",
              "      <td>2,856.00</td>\n",
              "      <td>2,906.00</td>\n",
              "      <td>2,353.00</td>\n",
              "    </tr>\n",
              "    <tr>\n",
              "      <th>Total Non-Current Liabilities</th>\n",
              "      <td>244,212.00</td>\n",
              "      <td>291,652.00</td>\n",
              "      <td>289,692.00</td>\n",
              "      <td>205,451.00</td>\n",
              "      <td>210,398.00</td>\n",
              "    </tr>\n",
              "    <tr>\n",
              "      <th>CURRENT LIABILITIES</th>\n",
              "      <td></td>\n",
              "      <td></td>\n",
              "      <td></td>\n",
              "      <td></td>\n",
              "      <td></td>\n",
              "    </tr>\n",
              "    <tr>\n",
              "      <th>Short Term Borrowings</th>\n",
              "      <td>60,081.00</td>\n",
              "      <td>93,786.00</td>\n",
              "      <td>64,436.00</td>\n",
              "      <td>37,429.00</td>\n",
              "      <td>31,528.00</td>\n",
              "    </tr>\n",
              "    <tr>\n",
              "      <th>Trade Payables</th>\n",
              "      <td>108,897.00</td>\n",
              "      <td>96,799.00</td>\n",
              "      <td>108,309.00</td>\n",
              "      <td>106,861.00</td>\n",
              "      <td>76,595.00</td>\n",
              "    </tr>\n",
              "    <tr>\n",
              "      <th>Other Current Liabilities</th>\n",
              "      <td>106,086.00</td>\n",
              "      <td>220,440.00</td>\n",
              "      <td>143,251.00</td>\n",
              "      <td>168,330.00</td>\n",
              "      <td>125,423.00</td>\n",
              "    </tr>\n",
              "    <tr>\n",
              "      <th>Short Term Provisions</th>\n",
              "      <td>2,504.00</td>\n",
              "      <td>1,890.00</td>\n",
              "      <td>1,326.00</td>\n",
              "      <td>1,232.00</td>\n",
              "      <td>1,769.00</td>\n",
              "    </tr>\n",
              "    <tr>\n",
              "      <th>Total Current Liabilities</th>\n",
              "      <td>277,568.00</td>\n",
              "      <td>412,915.00</td>\n",
              "      <td>317,322.00</td>\n",
              "      <td>313,852.00</td>\n",
              "      <td>235,315.00</td>\n",
              "    </tr>\n",
              "    <tr>\n",
              "      <th>Total Capital And Liabilities</th>\n",
              "      <td>1,321,212.00</td>\n",
              "      <td>1,165,915.00</td>\n",
              "      <td>1,002,406.00</td>\n",
              "      <td>816,348.00</td>\n",
              "      <td>712,339.00</td>\n",
              "    </tr>\n",
              "    <tr>\n",
              "      <th>ASSETS</th>\n",
              "      <td></td>\n",
              "      <td></td>\n",
              "      <td></td>\n",
              "      <td></td>\n",
              "      <td></td>\n",
              "    </tr>\n",
              "    <tr>\n",
              "      <th>NON-CURRENT ASSETS</th>\n",
              "      <td></td>\n",
              "      <td></td>\n",
              "      <td></td>\n",
              "      <td></td>\n",
              "      <td></td>\n",
              "    </tr>\n",
              "    <tr>\n",
              "      <th>Tangible Assets</th>\n",
              "      <td>451,066.00</td>\n",
              "      <td>435,920.00</td>\n",
              "      <td>302,115.00</td>\n",
              "      <td>316,031.00</td>\n",
              "      <td>170,483.00</td>\n",
              "    </tr>\n",
              "    <tr>\n",
              "      <th>Intangible Assets</th>\n",
              "      <td>79,980.00</td>\n",
              "      <td>86,479.00</td>\n",
              "      <td>84,262.00</td>\n",
              "      <td>82,041.00</td>\n",
              "      <td>23,151.00</td>\n",
              "    </tr>\n",
              "    <tr>\n",
              "      <th>Capital Work-In-Progress</th>\n",
              "      <td>71,171.00</td>\n",
              "      <td>59,096.00</td>\n",
              "      <td>150,178.00</td>\n",
              "      <td>166,220.00</td>\n",
              "      <td>250,377.00</td>\n",
              "    </tr>\n",
              "    <tr>\n",
              "      <th>Fixed Assets</th>\n",
              "      <td>656,999.00</td>\n",
              "      <td>631,505.00</td>\n",
              "      <td>565,840.00</td>\n",
              "      <td>585,094.00</td>\n",
              "      <td>518,471.00</td>\n",
              "    </tr>\n",
              "    <tr>\n",
              "      <th>Non-Current Investments</th>\n",
              "      <td>212,382.00</td>\n",
              "      <td>203,852.00</td>\n",
              "      <td>164,612.00</td>\n",
              "      <td>25,259.00</td>\n",
              "      <td>25,639.00</td>\n",
              "    </tr>\n",
              "    <tr>\n",
              "      <th>Deferred Tax Assets [Net]</th>\n",
              "      <td>1,147.00</td>\n",
              "      <td>2,900.00</td>\n",
              "      <td>4,776.00</td>\n",
              "      <td>5,075.00</td>\n",
              "      <td>5,537.00</td>\n",
              "    </tr>\n",
              "    <tr>\n",
              "      <th>Long Term Loans And Advances</th>\n",
              "      <td>2,484.00</td>\n",
              "      <td>21,732.00</td>\n",
              "      <td>5,452.00</td>\n",
              "      <td>2,668.00</td>\n",
              "      <td>2,708.00</td>\n",
              "    </tr>\n",
              "    <tr>\n",
              "      <th>Other Non-Current Assets</th>\n",
              "      <td>64,977.00</td>\n",
              "      <td>37,407.00</td>\n",
              "      <td>17,676.00</td>\n",
              "      <td>8,653.00</td>\n",
              "      <td>8,279.00</td>\n",
              "    </tr>\n",
              "    <tr>\n",
              "      <th>Total Non-Current Assets</th>\n",
              "      <td>948,201.00</td>\n",
              "      <td>907,655.00</td>\n",
              "      <td>770,353.00</td>\n",
              "      <td>632,562.00</td>\n",
              "      <td>565,526.00</td>\n",
              "    </tr>\n",
              "    <tr>\n",
              "      <th>CURRENT ASSETS</th>\n",
              "      <td></td>\n",
              "      <td></td>\n",
              "      <td></td>\n",
              "      <td></td>\n",
              "      <td></td>\n",
              "    </tr>\n",
              "    <tr>\n",
              "      <th>Current Investments</th>\n",
              "      <td>152,446.00</td>\n",
              "      <td>72,915.00</td>\n",
              "      <td>71,023.00</td>\n",
              "      <td>57,603.00</td>\n",
              "      <td>57,260.00</td>\n",
              "    </tr>\n",
              "    <tr>\n",
              "      <th>Inventories</th>\n",
              "      <td>81,672.00</td>\n",
              "      <td>73,903.00</td>\n",
              "      <td>67,561.00</td>\n",
              "      <td>60,837.00</td>\n",
              "      <td>48,951.00</td>\n",
              "    </tr>\n",
              "    <tr>\n",
              "      <th>Trade Receivables</th>\n",
              "      <td>19,014.00</td>\n",
              "      <td>19,656.00</td>\n",
              "      <td>30,089.00</td>\n",
              "      <td>17,555.00</td>\n",
              "      <td>8,177.00</td>\n",
              "    </tr>\n",
              "    <tr>\n",
              "      <th>Cash And Cash Equivalents</th>\n",
              "      <td>17,397.00</td>\n",
              "      <td>30,920.00</td>\n",
              "      <td>11,081.00</td>\n",
              "      <td>4,255.00</td>\n",
              "      <td>3,023.00</td>\n",
              "    </tr>\n",
              "    <tr>\n",
              "      <th>Short Term Loans And Advances</th>\n",
              "      <td>65.00</td>\n",
              "      <td>669.00</td>\n",
              "      <td>545.00</td>\n",
              "      <td>2,327.00</td>\n",
              "      <td>996.00</td>\n",
              "    </tr>\n",
              "    <tr>\n",
              "      <th>OtherCurrentAssets</th>\n",
              "      <td>102,417.00</td>\n",
              "      <td>60,197.00</td>\n",
              "      <td>51,754.00</td>\n",
              "      <td>41,209.00</td>\n",
              "      <td>28,406.00</td>\n",
              "    </tr>\n",
              "    <tr>\n",
              "      <th>Total Current Assets</th>\n",
              "      <td>373,011.00</td>\n",
              "      <td>258,260.00</td>\n",
              "      <td>232,053.00</td>\n",
              "      <td>183,786.00</td>\n",
              "      <td>146,813.00</td>\n",
              "    </tr>\n",
              "    <tr>\n",
              "      <th>Total Assets</th>\n",
              "      <td>1,321,212.00</td>\n",
              "      <td>1,165,915.00</td>\n",
              "      <td>1,002,406.00</td>\n",
              "      <td>816,348.00</td>\n",
              "      <td>712,339.00</td>\n",
              "    </tr>\n",
              "    <tr>\n",
              "      <th>OTHER ADDITIONAL INFORMATION</th>\n",
              "      <td></td>\n",
              "      <td></td>\n",
              "      <td></td>\n",
              "      <td></td>\n",
              "      <td></td>\n",
              "    </tr>\n",
              "    <tr>\n",
              "      <th>CONTINGENT LIABILITIES, COMMITMENTS</th>\n",
              "      <td></td>\n",
              "      <td></td>\n",
              "      <td></td>\n",
              "      <td></td>\n",
              "      <td></td>\n",
              "    </tr>\n",
              "    <tr>\n",
              "      <th>Contingent Liabilities</th>\n",
              "      <td>85,366.00</td>\n",
              "      <td>54,891.00</td>\n",
              "      <td>50,904.00</td>\n",
              "      <td>60,997.00</td>\n",
              "      <td>76,941.00</td>\n",
              "    </tr>\n",
              "    <tr>\n",
              "      <th>BONUS DETAILS</th>\n",
              "      <td></td>\n",
              "      <td></td>\n",
              "      <td></td>\n",
              "      <td></td>\n",
              "      <td></td>\n",
              "    </tr>\n",
              "    <tr>\n",
              "      <th>Bonus Equity Share Capital</th>\n",
              "      <td>5,188.89</td>\n",
              "      <td>5,188.89</td>\n",
              "      <td>5,188.89</td>\n",
              "      <td>5,188.89</td>\n",
              "      <td>2,108.56</td>\n",
              "    </tr>\n",
              "    <tr>\n",
              "      <th>NON-CURRENT INVESTMENTS</th>\n",
              "      <td></td>\n",
              "      <td></td>\n",
              "      <td></td>\n",
              "      <td></td>\n",
              "      <td></td>\n",
              "    </tr>\n",
              "    <tr>\n",
              "      <th>Non-Current Investments Quoted Market Value</th>\n",
              "      <td>0.00</td>\n",
              "      <td>0.00</td>\n",
              "      <td>0.00</td>\n",
              "      <td>0.00</td>\n",
              "      <td>0.00</td>\n",
              "    </tr>\n",
              "    <tr>\n",
              "      <th>Non-Current Investments Unquoted Book Value</th>\n",
              "      <td>193,228.00</td>\n",
              "      <td>174,448.00</td>\n",
              "      <td>143,718.00</td>\n",
              "      <td>0.00</td>\n",
              "      <td>0.00</td>\n",
              "    </tr>\n",
              "    <tr>\n",
              "      <th>CURRENT INVESTMENTS</th>\n",
              "      <td></td>\n",
              "      <td></td>\n",
              "      <td></td>\n",
              "      <td></td>\n",
              "      <td></td>\n",
              "    </tr>\n",
              "    <tr>\n",
              "      <th>Current Investments Quoted Market Value</th>\n",
              "      <td>0.00</td>\n",
              "      <td>0.00</td>\n",
              "      <td>0.00</td>\n",
              "      <td>0.00</td>\n",
              "      <td>0.00</td>\n",
              "    </tr>\n",
              "    <tr>\n",
              "      <th>Current Investments Unquoted Book Value</th>\n",
              "      <td>115,098.00</td>\n",
              "      <td>40,993.00</td>\n",
              "      <td>44,706.00</td>\n",
              "      <td>0.00</td>\n",
              "      <td>0.00</td>\n",
              "    </tr>\n",
              "  </tbody>\n",
              "</table>\n",
              "</div>"
            ],
            "text/plain": [
              "                                                    Mar21  ...       Mar17\n",
              "Balance Sheet                                              ...            \n",
              "                                                  12 mths  ...     12 mths\n",
              "EQUITIES AND LIABILITIES                                   ...            \n",
              "SHAREHOLDER'S FUNDS                                        ...            \n",
              "Equity Share Capital                             6,445.00  ...    2,959.00\n",
              "Total Share Capital                              6,445.00  ...    2,959.00\n",
              "Reserves and Surplus                           693,727.00  ...  259,876.00\n",
              "Total Reserves and Surplus                     693,727.00  ...  260,746.00\n",
              "Total Shareholders Funds                       700,172.00  ...  263,705.00\n",
              "Minority Interest                               99,260.00  ...    2,917.00\n",
              "NON-CURRENT LIABILITIES                                    ...            \n",
              "Long Term Borrowings                           163,683.00  ...  152,148.00\n",
              "Deferred Tax Liabilities [Net]                  37,001.00  ...   26,735.00\n",
              "Other Long Term Liabilities                     40,903.00  ...   29,162.00\n",
              "Long Term Provisions                             2,625.00  ...    2,353.00\n",
              "Total Non-Current Liabilities                  244,212.00  ...  210,398.00\n",
              "CURRENT LIABILITIES                                        ...            \n",
              "Short Term Borrowings                           60,081.00  ...   31,528.00\n",
              "Trade Payables                                 108,897.00  ...   76,595.00\n",
              "Other Current Liabilities                      106,086.00  ...  125,423.00\n",
              "Short Term Provisions                            2,504.00  ...    1,769.00\n",
              "Total Current Liabilities                      277,568.00  ...  235,315.00\n",
              "Total Capital And Liabilities                1,321,212.00  ...  712,339.00\n",
              "ASSETS                                                     ...            \n",
              "NON-CURRENT ASSETS                                         ...            \n",
              "Tangible Assets                                451,066.00  ...  170,483.00\n",
              "Intangible Assets                               79,980.00  ...   23,151.00\n",
              "Capital Work-In-Progress                        71,171.00  ...  250,377.00\n",
              "Fixed Assets                                   656,999.00  ...  518,471.00\n",
              "Non-Current Investments                        212,382.00  ...   25,639.00\n",
              "Deferred Tax Assets [Net]                        1,147.00  ...    5,537.00\n",
              "Long Term Loans And Advances                     2,484.00  ...    2,708.00\n",
              "Other Non-Current Assets                        64,977.00  ...    8,279.00\n",
              "Total Non-Current Assets                       948,201.00  ...  565,526.00\n",
              "CURRENT ASSETS                                             ...            \n",
              "Current Investments                            152,446.00  ...   57,260.00\n",
              "Inventories                                     81,672.00  ...   48,951.00\n",
              "Trade Receivables                               19,014.00  ...    8,177.00\n",
              "Cash And Cash Equivalents                       17,397.00  ...    3,023.00\n",
              "Short Term Loans And Advances                       65.00  ...      996.00\n",
              "OtherCurrentAssets                             102,417.00  ...   28,406.00\n",
              "Total Current Assets                           373,011.00  ...  146,813.00\n",
              "Total Assets                                 1,321,212.00  ...  712,339.00\n",
              "OTHER ADDITIONAL INFORMATION                               ...            \n",
              "CONTINGENT LIABILITIES, COMMITMENTS                        ...            \n",
              "Contingent Liabilities                          85,366.00  ...   76,941.00\n",
              "BONUS DETAILS                                              ...            \n",
              "Bonus Equity Share Capital                       5,188.89  ...    2,108.56\n",
              "NON-CURRENT INVESTMENTS                                    ...            \n",
              "Non-Current Investments Quoted Market Value          0.00  ...        0.00\n",
              "Non-Current Investments Unquoted Book Value    193,228.00  ...        0.00\n",
              "CURRENT INVESTMENTS                                        ...            \n",
              "Current Investments Quoted Market Value              0.00  ...        0.00\n",
              "Current Investments Unquoted Book Value        115,098.00  ...        0.00\n",
              "\n",
              "[53 rows x 5 columns]"
            ]
          },
          "metadata": {
            "tags": []
          },
          "execution_count": 13
        }
      ]
    },
    {
      "cell_type": "code",
      "metadata": {
        "id": "Kl5OPKTj0qtl",
        "colab": {
          "base_uri": "https://localhost:8080/"
        },
        "outputId": "3c1f6c45-1edc-42f7-f581-350a97f727a6"
      },
      "source": [
        "debt = df_bs.loc[['Long Term Borrowings'],:].values.tolist()[0][1]\n",
        "debt_final = float(debt.replace(',',''))\n",
        "debt_final"
      ],
      "execution_count": 27,
      "outputs": [
        {
          "output_type": "execute_result",
          "data": {
            "text/plain": [
              "197631.0"
            ]
          },
          "metadata": {
            "tags": []
          },
          "execution_count": 27
        }
      ]
    },
    {
      "cell_type": "code",
      "metadata": {
        "colab": {
          "base_uri": "https://localhost:8080/"
        },
        "id": "jrPEyEf5aF1M",
        "outputId": "b7e9c40b-21e0-4c1c-e1fe-3f534171c682"
      },
      "source": [
        "previous_ev_ebita = float(df2.iloc[1,:].values.tolist()[0])\n",
        "previous_ev_ebita"
      ],
      "execution_count": 31,
      "outputs": [
        {
          "output_type": "execute_result",
          "data": {
            "text/plain": [
              "16.45"
            ]
          },
          "metadata": {
            "tags": []
          },
          "execution_count": 31
        }
      ]
    },
    {
      "cell_type": "code",
      "metadata": {
        "colab": {
          "base_uri": "https://localhost:8080/"
        },
        "id": "qGc4IGlYcnf8",
        "outputId": "a003731f-ac17-4dbf-d2dc-3b09f0ff64f8"
      },
      "source": [
        "forecasted_ev = (expected_ebitda*previous_ev_ebita)-debt_final\n",
        "forecasted_ev"
      ],
      "execution_count": 32,
      "outputs": [
        {
          "output_type": "execute_result",
          "data": {
            "text/plain": [
              "1559829.0467264052"
            ]
          },
          "metadata": {
            "tags": []
          },
          "execution_count": 32
        }
      ]
    },
    {
      "cell_type": "code",
      "metadata": {
        "id": "ie_hiNJvc-95"
      },
      "source": [
        "source3 = requests.get('https://www.moneycontrol.com/india/stockpricequote/refineries/relianceindustries/RI').text\n",
        "soup3 = BeautifulSoup(source3, 'lxml')"
      ],
      "execution_count": 38,
      "outputs": []
    },
    {
      "cell_type": "code",
      "metadata": {
        "colab": {
          "base_uri": "https://localhost:8080/",
          "height": 234
        },
        "id": "51a21uR_fpY8",
        "outputId": "fa346ab3-0e75-405b-9169-8ccd970037f6"
      },
      "source": [
        "tabs = []\n",
        "table = soup3.find(\"table\", class_='peer_tbl')\n",
        "for tr in table.find_all(\"tr\")[1:]:\n",
        "  tabs.append({\n",
        "            'Company Name': tr.find_all('td')[0].text,\n",
        "            'ltp': tr.find_all('td')[1].text,\n",
        "            'MCap': tr.find_all('td')[3].text,\n",
        "            })\n",
        "  \n",
        "df_mcap = pd.DataFrame(tabs)\n",
        "df_mcap = df_mcap.set_index('Company Name')\n",
        "df_mcap"
      ],
      "execution_count": 40,
      "outputs": [
        {
          "output_type": "execute_result",
          "data": {
            "text/html": [
              "<div>\n",
              "<style scoped>\n",
              "    .dataframe tbody tr th:only-of-type {\n",
              "        vertical-align: middle;\n",
              "    }\n",
              "\n",
              "    .dataframe tbody tr th {\n",
              "        vertical-align: top;\n",
              "    }\n",
              "\n",
              "    .dataframe thead th {\n",
              "        text-align: right;\n",
              "    }\n",
              "</style>\n",
              "<table border=\"1\" class=\"dataframe\">\n",
              "  <thead>\n",
              "    <tr style=\"text-align: right;\">\n",
              "      <th></th>\n",
              "      <th>ltp</th>\n",
              "      <th>MCap</th>\n",
              "    </tr>\n",
              "    <tr>\n",
              "      <th>Company Name</th>\n",
              "      <th></th>\n",
              "      <th></th>\n",
              "    </tr>\n",
              "  </thead>\n",
              "  <tbody>\n",
              "    <tr>\n",
              "      <th>\\n\\t\\t\\t\\t\\t\\t\\t\\tReliance</th>\n",
              "      <td>2,104.45</td>\n",
              "      <td>1,356,339.04</td>\n",
              "    </tr>\n",
              "    <tr>\n",
              "      <th>\\n\\t\\t\\t\\t\\t\\t\\t\\tONGC</th>\n",
              "      <td>120.90</td>\n",
              "      <td>152,095.58</td>\n",
              "    </tr>\n",
              "    <tr>\n",
              "      <th>\\n\\t\\t\\t\\t\\t\\t\\t\\tPetronet LNG</th>\n",
              "      <td>228.25</td>\n",
              "      <td>34,237.50</td>\n",
              "    </tr>\n",
              "    <tr>\n",
              "      <th>\\n\\t\\t\\t\\t\\t\\t\\t\\tOil India</th>\n",
              "      <td>156.75</td>\n",
              "      <td>16,998.05</td>\n",
              "    </tr>\n",
              "    <tr>\n",
              "      <th>\\n\\t\\t\\t\\t\\t\\t\\t\\tHOEC</th>\n",
              "      <td>122.70</td>\n",
              "      <td>1,622.63</td>\n",
              "    </tr>\n",
              "  </tbody>\n",
              "</table>\n",
              "</div>"
            ],
            "text/plain": [
              "                                     ltp          MCap\n",
              "Company Name                                          \n",
              "\\n\\t\\t\\t\\t\\t\\t\\t\\tReliance      2,104.45  1,356,339.04\n",
              "\\n\\t\\t\\t\\t\\t\\t\\t\\tONGC            120.90    152,095.58\n",
              "\\n\\t\\t\\t\\t\\t\\t\\t\\tPetronet LNG    228.25     34,237.50\n",
              "\\n\\t\\t\\t\\t\\t\\t\\t\\tOil India       156.75     16,998.05\n",
              "\\n\\t\\t\\t\\t\\t\\t\\t\\tHOEC            122.70      1,622.63"
            ]
          },
          "metadata": {
            "tags": []
          },
          "execution_count": 40
        }
      ]
    },
    {
      "cell_type": "code",
      "metadata": {
        "colab": {
          "base_uri": "https://localhost:8080/"
        },
        "id": "MMiTMHWtgKZ9",
        "outputId": "6c551670-ac10-4267-a548-efbfb4ae4888"
      },
      "source": [
        "ltp,mcap = df_mcap.iloc[[0],:].values.tolist()[0]\n",
        "ltp_final = float(ltp.replace(',',''))\n",
        "ltp_final"
      ],
      "execution_count": 44,
      "outputs": [
        {
          "output_type": "execute_result",
          "data": {
            "text/plain": [
              "2104.45"
            ]
          },
          "metadata": {
            "tags": []
          },
          "execution_count": 44
        }
      ]
    },
    {
      "cell_type": "code",
      "metadata": {
        "colab": {
          "base_uri": "https://localhost:8080/"
        },
        "id": "OmrK09DEhC1z",
        "outputId": "09a99b43-29f7-4745-96dc-61228571cc5f"
      },
      "source": [
        "mcap_final = float(mcap.replace(',',''))\n",
        "mcap_final"
      ],
      "execution_count": 45,
      "outputs": [
        {
          "output_type": "execute_result",
          "data": {
            "text/plain": [
              "1356339.04"
            ]
          },
          "metadata": {
            "tags": []
          },
          "execution_count": 45
        }
      ]
    },
    {
      "cell_type": "code",
      "metadata": {
        "colab": {
          "base_uri": "https://localhost:8080/"
        },
        "id": "MWEQHd3YhZj6",
        "outputId": "dc030e17-d6f0-450f-feb5-50f7b9d5f0df"
      },
      "source": [
        "no_of_shares = mcap_final/ltp_final\n",
        "no_of_shares"
      ],
      "execution_count": 46,
      "outputs": [
        {
          "output_type": "execute_result",
          "data": {
            "text/plain": [
              "644.5099859820857"
            ]
          },
          "metadata": {
            "tags": []
          },
          "execution_count": 46
        }
      ]
    },
    {
      "cell_type": "code",
      "metadata": {
        "colab": {
          "base_uri": "https://localhost:8080/"
        },
        "id": "knDTTx7-hiDx",
        "outputId": "218cdebe-d2fe-4b0e-c218-32c13ca4de88"
      },
      "source": [
        "target_price = forecasted_ev/no_of_shares\n",
        "target_price"
      ],
      "execution_count": 48,
      "outputs": [
        {
          "output_type": "execute_result",
          "data": {
            "text/plain": [
              "2420.1782449492734"
            ]
          },
          "metadata": {
            "tags": []
          },
          "execution_count": 48
        }
      ]
    },
    {
      "cell_type": "code",
      "metadata": {
        "colab": {
          "base_uri": "https://localhost:8080/"
        },
        "id": "QSfD-YTVhstx",
        "outputId": "b374975b-0058-4aea-f7a1-a7866ace6c70"
      },
      "source": [
        "entry_price = target_price*0.75\n",
        "entry_price"
      ],
      "execution_count": 49,
      "outputs": [
        {
          "output_type": "execute_result",
          "data": {
            "text/plain": [
              "1815.1336837119552"
            ]
          },
          "metadata": {
            "tags": []
          },
          "execution_count": 49
        }
      ]
    },
    {
      "cell_type": "code",
      "metadata": {
        "colab": {
          "base_uri": "https://localhost:8080/"
        },
        "id": "oSqSQqeih5bS",
        "outputId": "48fd1dfb-ea21-44c8-a9ec-4bfcdbd38cd4"
      },
      "source": [
        "incr_now = ((target_price-ltp_final)/ltp_final)*100\n",
        "incr_now"
      ],
      "execution_count": 52,
      "outputs": [
        {
          "output_type": "execute_result",
          "data": {
            "text/plain": [
              "15.002886500001125"
            ]
          },
          "metadata": {
            "tags": []
          },
          "execution_count": 52
        }
      ]
    },
    {
      "cell_type": "code",
      "metadata": {
        "id": "QEZbSGp2iLqN"
      },
      "source": [
        ""
      ],
      "execution_count": null,
      "outputs": []
    }
  ]
}